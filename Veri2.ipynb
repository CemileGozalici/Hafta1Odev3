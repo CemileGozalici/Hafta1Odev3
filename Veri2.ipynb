{
 "cells": [
  {
   "cell_type": "code",
   "execution_count": 76,
   "id": "3925a383",
   "metadata": {},
   "outputs": [],
   "source": [
    "from bs4 import BeautifulSoup\n",
    "import requests\n",
    "from selenium import webdriver\n",
    "from selenium.webdriver.common.keys import Keys\n",
    "import time\n",
    "import csv\n",
    "import pandas as pd"
   ]
  },
  {
   "cell_type": "code",
   "execution_count": 77,
   "id": "92323f1a",
   "metadata": {},
   "outputs": [],
   "source": [
    "def veri_cek():\n",
    "    \n",
    "    sayfa = int(input(\"scroll sayısını girin = \"))\n",
    "\n",
    "    driver_path = \"D:\\chromedriver.exe\"\n",
    "    browser = webdriver.Chrome(driver_path)\n",
    "\n",
    "    browser.get(\"https://twitter.com/deeplearningtr\")\n",
    "        \n",
    "    #\n",
    "    file = open(\"tweetler.csv\",\"w\",encoding=\"utf-8\")\n",
    "    writer = csv.writer(file)\n",
    "    writer.writerow([\"tweetler\"])\n",
    "    \n",
    "    \n",
    "    #\n",
    "    a = 0\n",
    "    while a < sayfa:\n",
    "    #\n",
    "        lastHeight = browser.execute_script(\"return document.body.scrollHeight\")\n",
    "        i=0\n",
    "        while i<1:\n",
    "            browser.execute_script(\"window.scrollTo(0, document.body.scrollHeight);\")\n",
    "            time.sleep(3)\n",
    "            newHeight = browser.execute_script(\"return document.body.scrollHeight\")\n",
    "\n",
    "            if newHeight == lastHeight:\n",
    "                break\n",
    "            else:\n",
    "                lastHeight = newHeight\n",
    "\n",
    "            i = i+1\n",
    "    #\n",
    "\n",
    "\n",
    "\n",
    "        sayfa_kaynağı = browser.page_source\n",
    "        soup = BeautifulSoup(sayfa_kaynağı, \"html.parser\")\n",
    "        tweetler = soup.find_all(\"div\",attrs={\"data-testid\":\"tweetText\"})\n",
    "\n",
    "\n",
    "        for i in tweetler:\n",
    "            \n",
    "            try:\n",
    "                \n",
    "                yazı = i.find(\"span\", attrs={\"class\":\"css-901oao css-16my406 r-poiln3 r-bcqeeo r-qvutc0\"}).text\n",
    "               \n",
    "\n",
    "                writer.writerow([yazı])\n",
    "            \n",
    "            except:\n",
    "                print(\"**\")\n",
    "        a = a+1\n",
    "        "
   ]
  },
  {
   "cell_type": "code",
   "execution_count": 78,
   "id": "086acd89",
   "metadata": {},
   "outputs": [
    {
     "name": "stdout",
     "output_type": "stream",
     "text": [
      "scroll sayısını girin = 2\n"
     ]
    },
    {
     "name": "stderr",
     "output_type": "stream",
     "text": [
      "C:\\Users\\user\\AppData\\Local\\Temp\\ipykernel_11896\\696562965.py:6: DeprecationWarning: executable_path has been deprecated, please pass in a Service object\n",
      "  browser = webdriver.Chrome(driver_path)\n"
     ]
    }
   ],
   "source": [
    "veri_cek()"
   ]
  },
  {
   "cell_type": "code",
   "execution_count": null,
   "id": "8a854378",
   "metadata": {},
   "outputs": [],
   "source": [
    "import pandas as pd"
   ]
  },
  {
   "cell_type": "code",
   "execution_count": null,
   "id": "90df2f91",
   "metadata": {},
   "outputs": [],
   "source": [
    "ss = pd.read_csv(\"tweetler.csv\")\n"
   ]
  },
  {
   "cell_type": "code",
   "execution_count": 69,
   "id": "10cf5fb4",
   "metadata": {},
   "outputs": [],
   "source": [
    "ss.to_excel(\"tweetler_excel.xlsx\")"
   ]
  },
  {
   "cell_type": "code",
   "execution_count": null,
   "id": "4950814c",
   "metadata": {},
   "outputs": [],
   "source": []
  }
 ],
 "metadata": {
  "kernelspec": {
   "display_name": "Python 3 (ipykernel)",
   "language": "python",
   "name": "python3"
  },
  "language_info": {
   "codemirror_mode": {
    "name": "ipython",
    "version": 3
   },
   "file_extension": ".py",
   "mimetype": "text/x-python",
   "name": "python",
   "nbconvert_exporter": "python",
   "pygments_lexer": "ipython3",
   "version": "3.9.12"
  }
 },
 "nbformat": 4,
 "nbformat_minor": 5
}
